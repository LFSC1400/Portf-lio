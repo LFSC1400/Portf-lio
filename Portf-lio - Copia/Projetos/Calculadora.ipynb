{
 "cells": [
  {
   "cell_type": "code",
   "execution_count": 10,
   "metadata": {},
   "outputs": [
    {
     "name": "stdout",
     "output_type": "stream",
     "text": [
      "O primeiro numero é 2 e o segundo é 2\n",
      "Escolha um: 1-soma, 2-subtração, 3-divisão, 4-multiplicação\n",
      "2 + 2 = \n",
      "22\n"
     ]
    }
   ],
   "source": [
    "n1 = input(\"Digite o primeiro numero\")\n",
    "n2 = input(\"Digite o segundo numero\")\n",
    "\n",
    "print(f'O primeiro numero é {n1} e o segundo é {n2}')\n",
    "\n",
    "print(\"Escolha um: 1-soma, 2-subtração, 3-divisão, 4-multiplicação\")\n",
    "\n",
    "escolha = input(\"Escolha entre 1/2/3/4\")\n",
    "\n",
    "if escolha not in ['1', '2', '3', '4']:\n",
    "    print(\"Operação inválida!\")\n",
    "\n",
    "if escolha == '1':\n",
    " print('{} + {} = '.format(n1, n2))\n",
    "print(n1 + n2)"
   ]
  }
 ],
 "metadata": {
  "kernelspec": {
   "display_name": "Python 3",
   "language": "python",
   "name": "python3"
  },
  "language_info": {
   "codemirror_mode": {
    "name": "ipython",
    "version": 3
   },
   "file_extension": ".py",
   "mimetype": "text/x-python",
   "name": "python",
   "nbconvert_exporter": "python",
   "pygments_lexer": "ipython3",
   "version": "3.11.9"
  }
 },
 "nbformat": 4,
 "nbformat_minor": 2
}
